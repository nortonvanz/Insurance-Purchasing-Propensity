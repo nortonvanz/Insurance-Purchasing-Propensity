{
 "cells": [
  {
   "cell_type": "code",
   "execution_count": 1,
   "metadata": {
    "id": "8Q1LVS1lWJb6"
   },
   "outputs": [],
   "source": [
    "# Playgroud Series - Binary Classification of Insurance Cross Selling\n",
    "  # https://www.kaggle.com/competitions/playground-series-s4e7\n",
    "  # Your Goal: predict which customers respond positively to an automobile insurance offer.\n",
    "  # Metric: Submissions are evaluated using area under the ROC curve."
   ]
  },
  {
   "cell_type": "markdown",
   "metadata": {},
   "source": [
    "# Improvements (to do)"
   ]
  },
  {
   "cell_type": "code",
   "execution_count": 1,
   "metadata": {},
   "outputs": [],
   "source": [
    "#DONE v1 and v2:\n",
    "# use more data (used 100k on train).  -> DT was practically not improved, even with 1.5M rows on test. Saw an post showing there are many repeated rows on dataset.\n",
    "    # There are no duplicated rows on test data (11M). Removind 1 feature per time, all of them have many duplicates (downsampling). There was no gain of doing that. (https://www.kaggle.com/competitions/playground-series-s4e7/discussion/517167)\n",
    "# Plot ROC_AUC curve to compare moodel\n",
    "\n",
    "#DONE V3:\n",
    "#Probabilistic approach\n",
    "\n",
    "#DONE V4:\n",
    "# tested LogisticRegressionCV and  LogisticRegression + GridSearchCV (fine tuning). -> RF is still superior.\n",
    "\n",
    "#DONE V5:\n",
    "# CatBoost wuthout default params\n",
    "\n",
    "#DONE V6\n",
    "# Balance CatBoost -> did not imporve\n",
    "# CatBoost + GridSearchCV -> did not improve\n",
    "# CatBoost + GridSearchCV of [AutoML Grand Prix] 1st Place Solution (https://www.kaggle.com/code/rohanrao/automl-grand-prix-1st-place-solution) -> did not improve\n",
    "\n",
    "#TODO V7\n",
    "# Data Prep/Feature Engeering and Cat Boost of [AutoML Grand Prix] 1st Place Solution (https://www.kaggle.com/code/rohanrao/automl-grand-prix-1st-place-solution)\n",
    "    # Did not run with 11Mi train rows locally (few mommory). Tried w/ 100k train and full test (needed to submit).\n",
    "    # User iterations=1000 instead of 5000, and task_type= 'CPU', cause 'GPU' -> Demands NVidea graphics cards w/ CUDA\n",
    "    # Undestood StratifiedKFold w/ CatBoost cross validation\n",
    "    # Kaggle public score: 0.884 (best by far!)\n",
    "\n",
    "#######################\n",
    "# Model Tuning: RandomizedSearchCV.\n",
    "\n",
    "#IMPROVE EDA\n",
    "# Follow Kaggle notebooks"
   ]
  },
  {
   "cell_type": "markdown",
   "metadata": {
    "id": "c964f78e-187f-47b9-baa9-444d82018040"
   },
   "source": [
    "# Imports"
   ]
  },
  {
   "cell_type": "code",
   "execution_count": 1,
   "metadata": {
    "colab": {
     "base_uri": "https://localhost:8080/"
    },
    "executionInfo": {
     "elapsed": 25823,
     "status": "ok",
     "timestamp": 1720173917828,
     "user": {
      "displayName": "Nórton Mattiello Vanz",
      "userId": "14850691427029462821"
     },
     "user_tz": 180
    },
    "id": "c818e49a-32a4-490d-8f28-737507e69c21",
    "outputId": "c72f06b0-33a8-4864-99c8-880965203700"
   },
   "outputs": [],
   "source": [
    "import pandas as pd\n",
    "import numpy as np\n",
    "import seaborn as sns\n",
    "import matplotlib.pyplot as plt\n",
    "from tabulate import tabulate\n",
    "import polars as pl\n",
    "\n",
    "pd.set_option('display.float_format', lambda x: '%.3f' % x) #pandas decimal places\n",
    "pd.set_option('max_colwidth', 100) #num of cols to be shown\n",
    "np.set_printoptions(suppress=True, precision=6)#numpy decimal placese\n",
    "\n",
    "\n",
    "from sklearn.model_selection       import train_test_split, GridSearchCV, StratifiedKFold#, cross_val_score\n",
    "from sklearn.preprocessing         import MinMaxScaler #OneHotEncoder  \n",
    "from sklearn.metrics               import roc_auc_score, roc_curve, auc, confusion_matrix, ConfusionMatrixDisplay\n",
    "from sklearn.tree                  import DecisionTreeClassifier, plot_tree\n",
    "from sklearn.ensemble              import RandomForestClassifier\n",
    "from sklearn.linear_model          import LogisticRegressionCV, LogisticRegression\n",
    "\n",
    "from catboost                      import CatBoostClassifier, Pool #Numpy downgrade needed: pip install numpy==1.26.4 (from mar/24)\n",
    "\n",
    "\n",
    "\n",
    "# #import sweetviz as sv\n",
    "# from yellowbrick.features import ParallelCoordinates"
   ]
  },
  {
   "cell_type": "markdown",
   "metadata": {
    "id": "34211de5-86e2-4946-8fc2-a3b38744f92e"
   },
   "source": [
    "# Load Data"
   ]
  },
  {
   "cell_type": "code",
   "execution_count": 92,
   "metadata": {},
   "outputs": [],
   "source": [
    "## load data\n",
    "#train = pl.read_csv('..\\\\data\\\\kaggle\\\\train.csv')\n",
    "\n",
    "# Specify the path to your CSV file and read a random sample of the dataset\n",
    "train = pl.read_csv('..\\\\data\\\\kaggle\\\\train.csv').sample(n=500000)\n",
    "test = pl.read_csv('..\\\\data\\\\kaggle\\\\test.csv') #.sample(n=70000) needs to be full, cause I neet to submit all the rows!\n",
    "test = test.with_columns(pl.lit(0).cast(pl.Int64).alias('Response'))"
   ]
  },
  {
   "cell_type": "code",
   "execution_count": 93,
   "metadata": {},
   "outputs": [
    {
     "data": {
      "text/html": [
       "<div><style>\n",
       ".dataframe > thead > tr,\n",
       ".dataframe > tbody > tr {\n",
       "  text-align: right;\n",
       "  white-space: pre-wrap;\n",
       "}\n",
       "</style>\n",
       "<small>shape: (2, 12)</small><table border=\"1\" class=\"dataframe\"><thead><tr><th>id</th><th>Gender</th><th>Age</th><th>Driving_License</th><th>Region_Code</th><th>Previously_Insured</th><th>Vehicle_Age</th><th>Vehicle_Damage</th><th>Annual_Premium</th><th>Policy_Sales_Channel</th><th>Vintage</th><th>Response</th></tr><tr><td>i64</td><td>str</td><td>i64</td><td>i64</td><td>f64</td><td>i64</td><td>str</td><td>str</td><td>f64</td><td>f64</td><td>i64</td><td>i64</td></tr></thead><tbody><tr><td>5528186</td><td>&quot;Female&quot;</td><td>70</td><td>1</td><td>38.0</td><td>0</td><td>&quot;1-2 Year&quot;</td><td>&quot;Yes&quot;</td><td>28341.0</td><td>124.0</td><td>288</td><td>1</td></tr><tr><td>10297802</td><td>&quot;Male&quot;</td><td>65</td><td>1</td><td>31.0</td><td>1</td><td>&quot;1-2 Year&quot;</td><td>&quot;No&quot;</td><td>2630.0</td><td>124.0</td><td>131</td><td>0</td></tr></tbody></table></div>"
      ],
      "text/plain": [
       "shape: (2, 12)\n",
       "┌──────────┬────────┬─────┬─────────────────┬───┬────────────────┬──────────────────────┬─────────┬──────────┐\n",
       "│ id       ┆ Gender ┆ Age ┆ Driving_License ┆ … ┆ Annual_Premium ┆ Policy_Sales_Channel ┆ Vintage ┆ Response │\n",
       "│ ---      ┆ ---    ┆ --- ┆ ---             ┆   ┆ ---            ┆ ---                  ┆ ---     ┆ ---      │\n",
       "│ i64      ┆ str    ┆ i64 ┆ i64             ┆   ┆ f64            ┆ f64                  ┆ i64     ┆ i64      │\n",
       "╞══════════╪════════╪═════╪═════════════════╪═══╪════════════════╪══════════════════════╪═════════╪══════════╡\n",
       "│ 5528186  ┆ Female ┆ 70  ┆ 1               ┆ … ┆ 28341.0        ┆ 124.0                ┆ 288     ┆ 1        │\n",
       "│ 10297802 ┆ Male   ┆ 65  ┆ 1               ┆ … ┆ 2630.0         ┆ 124.0                ┆ 131     ┆ 0        │\n",
       "└──────────┴────────┴─────┴─────────────────┴───┴────────────────┴──────────────────────┴─────────┴──────────┘"
      ]
     },
     "execution_count": 93,
     "metadata": {},
     "output_type": "execute_result"
    }
   ],
   "source": [
    "train[:2]"
   ]
  },
  {
   "cell_type": "code",
   "execution_count": 94,
   "metadata": {},
   "outputs": [
    {
     "data": {
      "text/html": [
       "<div><style>\n",
       ".dataframe > thead > tr,\n",
       ".dataframe > tbody > tr {\n",
       "  text-align: right;\n",
       "  white-space: pre-wrap;\n",
       "}\n",
       "</style>\n",
       "<small>shape: (2, 12)</small><table border=\"1\" class=\"dataframe\"><thead><tr><th>id</th><th>Gender</th><th>Age</th><th>Driving_License</th><th>Region_Code</th><th>Previously_Insured</th><th>Vehicle_Age</th><th>Vehicle_Damage</th><th>Annual_Premium</th><th>Policy_Sales_Channel</th><th>Vintage</th><th>Response</th></tr><tr><td>i64</td><td>str</td><td>i64</td><td>i64</td><td>f64</td><td>i64</td><td>str</td><td>str</td><td>f64</td><td>f64</td><td>i64</td><td>i64</td></tr></thead><tbody><tr><td>11504798</td><td>&quot;Female&quot;</td><td>20</td><td>1</td><td>47.0</td><td>0</td><td>&quot;&lt; 1 Year&quot;</td><td>&quot;No&quot;</td><td>2630.0</td><td>160.0</td><td>228</td><td>0</td></tr><tr><td>11504799</td><td>&quot;Male&quot;</td><td>47</td><td>1</td><td>28.0</td><td>0</td><td>&quot;1-2 Year&quot;</td><td>&quot;Yes&quot;</td><td>37483.0</td><td>124.0</td><td>123</td><td>0</td></tr></tbody></table></div>"
      ],
      "text/plain": [
       "shape: (2, 12)\n",
       "┌──────────┬────────┬─────┬─────────────────┬───┬────────────────┬──────────────────────┬─────────┬──────────┐\n",
       "│ id       ┆ Gender ┆ Age ┆ Driving_License ┆ … ┆ Annual_Premium ┆ Policy_Sales_Channel ┆ Vintage ┆ Response │\n",
       "│ ---      ┆ ---    ┆ --- ┆ ---             ┆   ┆ ---            ┆ ---                  ┆ ---     ┆ ---      │\n",
       "│ i64      ┆ str    ┆ i64 ┆ i64             ┆   ┆ f64            ┆ f64                  ┆ i64     ┆ i64      │\n",
       "╞══════════╪════════╪═════╪═════════════════╪═══╪════════════════╪══════════════════════╪═════════╪══════════╡\n",
       "│ 11504798 ┆ Female ┆ 20  ┆ 1               ┆ … ┆ 2630.0         ┆ 160.0                ┆ 228     ┆ 0        │\n",
       "│ 11504799 ┆ Male   ┆ 47  ┆ 1               ┆ … ┆ 37483.0        ┆ 124.0                ┆ 123     ┆ 0        │\n",
       "└──────────┴────────┴─────┴─────────────────┴───┴────────────────┴──────────────────────┴─────────┴──────────┘"
      ]
     },
     "execution_count": 94,
     "metadata": {},
     "output_type": "execute_result"
    }
   ],
   "source": [
    "test[:2]"
   ]
  },
  {
   "cell_type": "code",
   "execution_count": 82,
   "metadata": {},
   "outputs": [],
   "source": [
    "## prepare data\n",
    "df = pl.concat([train, test])\n",
    "\n",
    "df = df.with_columns([\n",
    "    pl.col('Gender').replace({'Male': 0, 'Female': 1}).cast(pl.Int32),\n",
    "    pl.col('Region_Code').cast(int),\n",
    "    pl.col('Vehicle_Age').replace({'< 1 Year': 0, '1-2 Year': 1, '> 2 Years': 2}).cast(pl.Int32),\n",
    "    pl.col('Vehicle_Damage').replace({'No': 0, 'Yes': 1}).cast(pl.Int32),\n",
    "    pl.col('Annual_Premium').cast(int),\n",
    "    pl.col('Policy_Sales_Channel').cast(int)\n",
    "])\n",
    "\n",
    "df = df.with_columns([\n",
    "    (pl.Series(pd.factorize((df['Previously_Insured'].cast(str) + df['Annual_Premium'].cast(str)).to_numpy())[0])).alias('Previously_Insured_Annual_Premium'),\n",
    "    (pl.Series(pd.factorize((df['Previously_Insured'].cast(str) + df['Vehicle_Age'].cast(str)).to_numpy())[0])).alias('Previously_Insured_Vehicle_Age'),\n",
    "    (pl.Series(pd.factorize((df['Previously_Insured'].cast(str) + df['Vehicle_Damage'].cast(str)).to_numpy())[0])).alias('Previously_Insured_Vehicle_Damage'),\n",
    "    (pl.Series(pd.factorize((df['Previously_Insured'].cast(str) + df['Vintage'].cast(str)).to_numpy())[0])).alias('Previously_Insured_Vintage')\n",
    "])\n",
    "\n",
    "train = df[:train.shape[0]].to_pandas()\n",
    "test = df[train.shape[0]:].to_pandas()"
   ]
  },
  {
   "cell_type": "code",
   "execution_count": null,
   "metadata": {},
   "outputs": [],
   "source": [
    "#Why just interactions with Previously_Insured variable?\n",
    "    #https://www.kaggle.com/competitions/playground-series-s4e7/discussion/516475#2901376\n",
    "#-> We ran all combinations of interactions on a smaller subset (500K rows) and chose the Top-3/4 based on feature importance. \n",
    "    #Any interaction with Previously_Insured seemed to work the best\n",
    "\n",
    "# It was on top of feature importance, as seen on other topic:\n",
    "    #https://www.kaggle.com/competitions/playground-series-s4e7/discussion/516860\n",
    "\n",
    "#Feature Engeneering with high Feature Importances:\n",
    "    #https://www.kaggle.com/competitions/playground-series-s4e7/discussion/517112\n",
    "    #Previously_Insured_Vehicle_Damage\n",
    "    #Vehicle_Age_Damage"
   ]
  },
  {
   "cell_type": "code",
   "execution_count": null,
   "metadata": {},
   "outputs": [],
   "source": []
  },
  {
   "cell_type": "code",
   "execution_count": 83,
   "metadata": {},
   "outputs": [],
   "source": [
    "# PANDAS EQUIVALENT:\n",
    "\n",
    "# Concatenate train and test DataFrames\n",
    "# df_pd = pd.concat([train_pd, test_pd], ignore_index=True)\n",
    "\n",
    "# # Convert specific columns\n",
    "# df_pd['Gender'] = df_pd['Gender'].replace({'Male': 0, 'Female': 1}).astype('int32')\n",
    "# df_pd['Region_Code'] = df_pd['Region_Code'].astype(int)\n",
    "# df_pd['Vehicle_Age'] = df_pd['Vehicle_Age'].replace({'< 1 Year': 0, '1-2 Year': 1, '> 2 Years': 2}).astype('int32')\n",
    "# df_pd['Vehicle_Damage'] = df_pd['Vehicle_Damage'].replace({'No': 0, 'Yes': 1}).astype('int32')\n",
    "# df_pd['Annual_Premium'] = df_pd['Annual_Premium'].astype(int)\n",
    "# df_pd['Policy_Sales_Channel'] = df_pd['Policy_Sales_Channel'].astype(int)\n",
    "\n",
    "# # Factorize and create new columns  -> pd.factorize() is a function in Pandas that is used to encode categorical (or object) data as integer values.\n",
    "# df_pd['Previously_Insured_Annual_Premium'] = pd.factorize(df_pd['Previously_Insured'].astype(str) + df_pd['Annual_Premium'].astype(str))[0]\n",
    "# df_pd['Previously_Insured_Vehicle_Age'] = pd.factorize(df_pd['Previously_Insured'].astype(str) + df_pd['Vehicle_Age'].astype(str))[0]\n",
    "# df_pd['Previously_Insured_Vehicle_Damage'] = pd.factorize(df_pd['Previously_Insured'].astype(str) + df_pd['Vehicle_Damage'].astype(str))[0]\n",
    "# df_pd['Previously_Insured_Vintage'] = pd.factorize(df_pd['Previously_Insured'].astype(str) + df_pd['Vintage'].astype(str))[0]\n",
    "\n",
    "# # Split back into train and test DataFrames\n",
    "# train_pd = df_pd.iloc[:len(train_pd)]\n",
    "# test_pd = df_pd.iloc[len(train_pd):]\n",
    "\n",
    "# # Reset index if needed\n",
    "# train_pd.reset_index(drop=True, inplace=True)\n",
    "# test_pd.reset_index(drop=True, inplace=True)\n",
    "\n",
    "# # Optionally, print or inspect the resulting train_pd and test_pd DataFrames\n",
    "# print(train_pd.head())\n",
    "# print(test_pd.head())\n"
   ]
  },
  {
   "cell_type": "code",
   "execution_count": 84,
   "metadata": {},
   "outputs": [
    {
     "data": {
      "text/html": [
       "<div>\n",
       "<style scoped>\n",
       "    .dataframe tbody tr th:only-of-type {\n",
       "        vertical-align: middle;\n",
       "    }\n",
       "\n",
       "    .dataframe tbody tr th {\n",
       "        vertical-align: top;\n",
       "    }\n",
       "\n",
       "    .dataframe thead th {\n",
       "        text-align: right;\n",
       "    }\n",
       "</style>\n",
       "<table border=\"1\" class=\"dataframe\">\n",
       "  <thead>\n",
       "    <tr style=\"text-align: right;\">\n",
       "      <th></th>\n",
       "      <th>id</th>\n",
       "      <th>Gender</th>\n",
       "      <th>Age</th>\n",
       "      <th>Driving_License</th>\n",
       "      <th>Region_Code</th>\n",
       "      <th>Previously_Insured</th>\n",
       "      <th>Vehicle_Age</th>\n",
       "      <th>Vehicle_Damage</th>\n",
       "      <th>Annual_Premium</th>\n",
       "      <th>Policy_Sales_Channel</th>\n",
       "      <th>Vintage</th>\n",
       "      <th>Response</th>\n",
       "      <th>Previously_Insured_Annual_Premium</th>\n",
       "      <th>Previously_Insured_Vehicle_Age</th>\n",
       "      <th>Previously_Insured_Vehicle_Damage</th>\n",
       "      <th>Previously_Insured_Vintage</th>\n",
       "    </tr>\n",
       "  </thead>\n",
       "  <tbody>\n",
       "    <tr>\n",
       "      <th>0</th>\n",
       "      <td>1167552</td>\n",
       "      <td>0</td>\n",
       "      <td>25</td>\n",
       "      <td>1</td>\n",
       "      <td>17</td>\n",
       "      <td>1</td>\n",
       "      <td>0</td>\n",
       "      <td>0</td>\n",
       "      <td>37685</td>\n",
       "      <td>152</td>\n",
       "      <td>235</td>\n",
       "      <td>0</td>\n",
       "      <td>0</td>\n",
       "      <td>0</td>\n",
       "      <td>0</td>\n",
       "      <td>0</td>\n",
       "    </tr>\n",
       "    <tr>\n",
       "      <th>1</th>\n",
       "      <td>6255103</td>\n",
       "      <td>1</td>\n",
       "      <td>41</td>\n",
       "      <td>1</td>\n",
       "      <td>8</td>\n",
       "      <td>0</td>\n",
       "      <td>1</td>\n",
       "      <td>1</td>\n",
       "      <td>34824</td>\n",
       "      <td>124</td>\n",
       "      <td>132</td>\n",
       "      <td>1</td>\n",
       "      <td>1</td>\n",
       "      <td>1</td>\n",
       "      <td>1</td>\n",
       "      <td>1</td>\n",
       "    </tr>\n",
       "  </tbody>\n",
       "</table>\n",
       "</div>"
      ],
      "text/plain": [
       "        id  Gender  Age  Driving_License  Region_Code  Previously_Insured  \\\n",
       "0  1167552       0   25                1           17                   1   \n",
       "1  6255103       1   41                1            8                   0   \n",
       "\n",
       "   Vehicle_Age  Vehicle_Damage  Annual_Premium  Policy_Sales_Channel  Vintage  \\\n",
       "0            0               0           37685                   152      235   \n",
       "1            1               1           34824                   124      132   \n",
       "\n",
       "   Response  Previously_Insured_Annual_Premium  \\\n",
       "0         0                                  0   \n",
       "1         1                                  1   \n",
       "\n",
       "   Previously_Insured_Vehicle_Age  Previously_Insured_Vehicle_Damage  \\\n",
       "0                               0                                  0   \n",
       "1                               1                                  1   \n",
       "\n",
       "   Previously_Insured_Vintage  \n",
       "0                           0  \n",
       "1                           1  "
      ]
     },
     "execution_count": 84,
     "metadata": {},
     "output_type": "execute_result"
    }
   ],
   "source": [
    "train[:2]"
   ]
  },
  {
   "cell_type": "code",
   "execution_count": 85,
   "metadata": {},
   "outputs": [
    {
     "data": {
      "text/html": [
       "<div>\n",
       "<style scoped>\n",
       "    .dataframe tbody tr th:only-of-type {\n",
       "        vertical-align: middle;\n",
       "    }\n",
       "\n",
       "    .dataframe tbody tr th {\n",
       "        vertical-align: top;\n",
       "    }\n",
       "\n",
       "    .dataframe thead th {\n",
       "        text-align: right;\n",
       "    }\n",
       "</style>\n",
       "<table border=\"1\" class=\"dataframe\">\n",
       "  <thead>\n",
       "    <tr style=\"text-align: right;\">\n",
       "      <th></th>\n",
       "      <th>id</th>\n",
       "      <th>Gender</th>\n",
       "      <th>Age</th>\n",
       "      <th>Driving_License</th>\n",
       "      <th>Region_Code</th>\n",
       "      <th>Previously_Insured</th>\n",
       "      <th>Vehicle_Age</th>\n",
       "      <th>Vehicle_Damage</th>\n",
       "      <th>Annual_Premium</th>\n",
       "      <th>Policy_Sales_Channel</th>\n",
       "      <th>Vintage</th>\n",
       "      <th>Response</th>\n",
       "      <th>Previously_Insured_Annual_Premium</th>\n",
       "      <th>Previously_Insured_Vehicle_Age</th>\n",
       "      <th>Previously_Insured_Vehicle_Damage</th>\n",
       "      <th>Previously_Insured_Vintage</th>\n",
       "    </tr>\n",
       "  </thead>\n",
       "  <tbody>\n",
       "    <tr>\n",
       "      <th>0</th>\n",
       "      <td>17858327</td>\n",
       "      <td>0</td>\n",
       "      <td>31</td>\n",
       "      <td>1</td>\n",
       "      <td>8</td>\n",
       "      <td>1</td>\n",
       "      <td>0</td>\n",
       "      <td>0</td>\n",
       "      <td>36551</td>\n",
       "      <td>152</td>\n",
       "      <td>246</td>\n",
       "      <td>0</td>\n",
       "      <td>87</td>\n",
       "      <td>0</td>\n",
       "      <td>0</td>\n",
       "      <td>90</td>\n",
       "    </tr>\n",
       "    <tr>\n",
       "      <th>1</th>\n",
       "      <td>15485695</td>\n",
       "      <td>0</td>\n",
       "      <td>27</td>\n",
       "      <td>1</td>\n",
       "      <td>10</td>\n",
       "      <td>1</td>\n",
       "      <td>0</td>\n",
       "      <td>0</td>\n",
       "      <td>30798</td>\n",
       "      <td>152</td>\n",
       "      <td>242</td>\n",
       "      <td>0</td>\n",
       "      <td>88</td>\n",
       "      <td>0</td>\n",
       "      <td>0</td>\n",
       "      <td>91</td>\n",
       "    </tr>\n",
       "  </tbody>\n",
       "</table>\n",
       "</div>"
      ],
      "text/plain": [
       "         id  Gender  Age  Driving_License  Region_Code  Previously_Insured  \\\n",
       "0  17858327       0   31                1            8                   1   \n",
       "1  15485695       0   27                1           10                   1   \n",
       "\n",
       "   Vehicle_Age  Vehicle_Damage  Annual_Premium  Policy_Sales_Channel  Vintage  \\\n",
       "0            0               0           36551                   152      246   \n",
       "1            0               0           30798                   152      242   \n",
       "\n",
       "   Response  Previously_Insured_Annual_Premium  \\\n",
       "0         0                                 87   \n",
       "1         0                                 88   \n",
       "\n",
       "   Previously_Insured_Vehicle_Age  Previously_Insured_Vehicle_Damage  \\\n",
       "0                               0                                  0   \n",
       "1                               0                                  0   \n",
       "\n",
       "   Previously_Insured_Vintage  \n",
       "0                          90  \n",
       "1                          91  "
      ]
     },
     "execution_count": 85,
     "metadata": {},
     "output_type": "execute_result"
    }
   ],
   "source": [
    "test[:2]"
   ]
  },
  {
   "cell_type": "code",
   "execution_count": 86,
   "metadata": {},
   "outputs": [
    {
     "name": "stdout",
     "output_type": "stream",
     "text": [
      "- Distinct values:\n",
      "id                                   100\n",
      "Gender                                 2\n",
      "Age                                   38\n",
      "Driving_License                        1\n",
      "Region_Code                           33\n",
      "Previously_Insured                     2\n",
      "Vehicle_Age                            3\n",
      "Vehicle_Damage                         2\n",
      "Annual_Premium                        86\n",
      "Policy_Sales_Channel                  13\n",
      "Vintage                               82\n",
      "Response                               2\n",
      "Previously_Insured_Annual_Premium     87\n",
      "Previously_Insured_Vehicle_Age         5\n",
      "Previously_Insured_Vehicle_Damage      3\n",
      "Previously_Insured_Vintage            90\n",
      "dtype: int64 \n",
      "\n",
      "- Variations:\n",
      "id                                   [1167552, 6255103, 9416081, 1304135, 3516439, 7909097, 4033434, 9723731, 7070276, 2899910, 95813...\n",
      "Gender                                                                                                                            [0, 1]\n",
      "Age                                  [25, 41, 59, 65, 24, 36, 22, 40, 30, 29, 20, 27, 38, 42, 52, 23, 28, 47, 53, 48, 26, 37, 76, 54,...\n",
      "Driving_License                                                                                                                      [1]\n",
      "Region_Code                          [17, 8, 18, 46, 48, 6, 37, 50, 14, 22, 28, 36, 41, 47, 34, 23, 11, 30, 15, 24, 33, 29, 38, 9, 12...\n",
      "Previously_Insured                                                                                                                [1, 0]\n",
      "Vehicle_Age                                                                                                                    [0, 1, 2]\n",
      "Vehicle_Damage                                                                                                                    [0, 1]\n",
      "Annual_Premium                       [37685, 34824, 28981, 2630, 22708, 34143, 52385, 52646, 27922, 61690, 30607, 43866, 48978, 28590...\n",
      "Policy_Sales_Channel                                                          [152, 124, 156, 15, 151, 160, 13, 26, 46, 8, 122, 11, 154]\n",
      "Vintage                              [235, 132, 288, 151, 105, 103, 74, 191, 204, 296, 99, 55, 130, 203, 80, 168, 250, 187, 248, 217,...\n",
      "Response                                                                                                                          [0, 1]\n",
      "Previously_Insured_Annual_Premium    [0, 1, 2, 3, 4, 5, 6, 7, 8, 9, 10, 11, 12, 13, 14, 15, 16, 17, 18, 19, 20, 21, 22, 23, 24, 25, 2...\n",
      "Previously_Insured_Vehicle_Age                                                                                           [0, 1, 2, 3, 4]\n",
      "Previously_Insured_Vehicle_Damage                                                                                              [0, 1, 2]\n",
      "Previously_Insured_Vintage           [0, 1, 2, 3, 4, 5, 6, 7, 8, 9, 10, 11, 12, 13, 14, 15, 16, 17, 18, 19, 20, 21, 22, 23, 24, 25, 2...\n",
      "dtype: object \n"
     ]
    }
   ],
   "source": [
    "#variations of each column\n",
    "print(f\"- Distinct values:\\n{train.apply( lambda x: x.unique().shape[0] ) } \\n\" )\n",
    "print(f\"- Variations:\\n{train.apply( lambda x: x.unique() ) } \" )"
   ]
  },
  {
   "cell_type": "markdown",
   "metadata": {},
   "source": [
    "# ML"
   ]
  },
  {
   "cell_type": "code",
   "execution_count": 87,
   "metadata": {},
   "outputs": [],
   "source": [
    "#StratifiedKFold is a variation of k-fold which returns stratified folds: each set contains approximately the same percentage of samples of each target class as the complete set.\n",
    "    #  Some classification problems can exhibit a large imbalance in the distribution of the target classes.\n",
    "    # In such cases it is recommended to use stratified sampling as implemented in StratifiedKFold and StratifiedShuffleSplit to ensure that relative class frequencies is approximately preserved in each train and validation fold."
   ]
  },
  {
   "attachments": {
    "a316fa1f-9f91-4255-8b12-8e6f4bf91437.png": {
     "image/png": "[encoded data removed]"
    }
   },
   "cell_type": "markdown",
   "metadata": {},
   "source": [
    "![image.png](attachment:a316fa1f-9f91-4255-8b12-8e6f4bf91437.png)"
   ]
  },
  {
   "cell_type": "code",
   "execution_count": 24,
   "metadata": {},
   "outputs": [
    {
     "name": "stdout",
     "output_type": "stream",
     "text": [
      "### Fold 1 Training ###\n",
      "0:\ttest: 0.8659257\tbest: 0.8659257 (0)\ttotal: 663ms\tremaining: 11m 2s\n",
      "Stopped by overfitting detector  (200 iterations wait)\n",
      "\n",
      "bestTest = 0.8821454377\n",
      "bestIteration = 295\n",
      "\n",
      "Shrink model to first 296 iterations.\n",
      "Fold 1 AUC: 0.88215\n",
      "\n",
      "### Fold 2 Training ###\n",
      "0:\ttest: 0.8657121\tbest: 0.8657121 (0)\ttotal: 593ms\tremaining: 9m 51s\n",
      "Stopped by overfitting detector  (200 iterations wait)\n",
      "\n",
      "bestTest = 0.8824506249\n",
      "bestIteration = 444\n",
      "\n",
      "Shrink model to first 445 iterations.\n",
      "Fold 2 AUC: 0.88245\n",
      "\n",
      "### Fold 3 Training ###\n",
      "0:\ttest: 0.8644237\tbest: 0.8644237 (0)\ttotal: 526ms\tremaining: 8m 45s\n",
      "Stopped by overfitting detector  (200 iterations wait)\n",
      "\n",
      "bestTest = 0.8820728529\n",
      "bestIteration = 365\n",
      "\n",
      "Shrink model to first 366 iterations.\n",
      "Fold 3 AUC: 0.88207\n",
      "\n",
      "\n",
      "Overall AUC: 0.88222 +/- 0.00016\n"
     ]
    }
   ],
   "source": [
    "## train model\n",
    "\n",
    "#store for each folder\n",
    "aucs = [] \n",
    "preds = []\n",
    "\n",
    "#A StratifiedKFold object is created for 3-fold cross-validation. This method ensures that the class distribution is approximately the same in each fold as in the whole dataset.\n",
    "skf = StratifiedKFold(n_splits=3, shuffle=True, random_state=42)\n",
    "\n",
    "#A loop is initiated to iterate over each fold generated by StratifiedKFold.\n",
    "    #train_idx contains the indexes of the folder, and it's used to build x_train, \n",
    "for fold, (train_idx, valid_idx) in enumerate(skf.split(train, train['Response'])):\n",
    "    print(f'### Fold {fold+1} Training ###')\n",
    "\n",
    "    #For each fold, the training and validation sets are extracted from the train dataframe. The X_test dataset is also prepared using the same features as in the training data.\n",
    "\n",
    "    #Create a new DataFrame X_train containing the rows specified by train_idx and all columns from train except for the columns 'id' and 'Response'.\n",
    "    X_train = train.loc[train_idx, [c for c in train.columns if c not in ['id', 'Response']]]\n",
    "    y_train = train.loc[train_idx, 'Response']\n",
    "    X_valid = train.loc[valid_idx, X_train.columns]\n",
    "    y_valid = train.loc[valid_idx, 'Response']\n",
    "    X_test = test[X_train.columns]\n",
    "\n",
    "    #The data is converted into CatBoost Pool objects, which is the required format for training and evaluation in CatBoost.\n",
    "    X_train_pool = Pool(X_train, y_train, cat_features=X_train.columns.values)\n",
    "    X_valid_pool = Pool(X_valid, y_valid, cat_features=X_valid.columns.values)\n",
    "    X_test_pool = Pool(X_test, cat_features=X_test.columns.values)\n",
    "\n",
    "    #Initialize and Train the CatBoost Model:\n",
    "    model = CatBoostClassifier(\n",
    "        loss_function='Logloss',\n",
    "        eval_metric='AUC',\n",
    "        learning_rate=0.05,\n",
    "        iterations=1000, #5000 original\n",
    "        depth=9,\n",
    "        random_strength=0,\n",
    "        l2_leaf_reg=0.5,\n",
    "        task_type= 'CPU', #'GPU' -> Demands NVidea graphics cards w/ CUDA\n",
    "        random_seed=42,\n",
    "        verbose=False\n",
    "    )\n",
    "    #A CatBoostClassifier model is initialized with specific parameters. The model is then trained on the training data and validated on the validation data. Early stopping is used to prevent overfitting.\n",
    "    model.fit(X=X_train_pool, eval_set=X_valid_pool, verbose=1000, early_stopping_rounds=200)\n",
    "    \n",
    "    #Predictions for the validation set are made, and the AUC score is calculated. Predictions for the test set are stored, to be submitted.\n",
    "    pred_valid = model.predict_proba(X_valid_pool)[:, 1]\n",
    "    preds.append(model.predict_proba(X_test_pool)[:, 1])\n",
    "\n",
    "    auc = roc_auc_score(y_valid, pred_valid)\n",
    "    aucs.append(auc)\n",
    "\n",
    "    #The AUC score for the current fold is printed.\n",
    "    print(f'Fold {fold+1} AUC: {auc:.5f}\\n')\n",
    "\n",
    "#Calculate and Print Overall (mean) AUC:\n",
    "print(f'\\nOverall AUC: {np.mean(aucs):.5f} +/- {np.std(aucs):.5f}')"
   ]
  },
  {
   "cell_type": "code",
   "execution_count": null,
   "metadata": {},
   "outputs": [],
   "source": [
    "# Did not compare to all other because would need to run all transformations ans models, and than this. "
   ]
  },
  {
   "cell_type": "code",
   "execution_count": null,
   "metadata": {},
   "outputs": [],
   "source": []
  },
  {
   "cell_type": "code",
   "execution_count": null,
   "metadata": {},
   "outputs": [],
   "source": [
    "# Submission 7:    100k rows train, iterations=200,  n_splits=5  -->   Overall AUC: 0.87713 +/- 0.00288\n",
    "# Submission 7.1   500k rows train, iterations=500,  n_splits=3  -->   Overall AUC: 0.88222 +/- 0.00016\n",
    "# Submission 7.2   500k rows train, iterations=1000,  n_splits=3  -->   Overall AUC: 0.88222 +/- 0.00016 (did not improve AUC)"
   ]
  },
  {
   "cell_type": "code",
   "execution_count": 26,
   "metadata": {},
   "outputs": [
    {
     "data": {
      "text/plain": [
       "[array([0.006725, 0.404007, 0.234319, ..., 0.000843, 0.468008, 0.000043])]"
      ]
     },
     "execution_count": 26,
     "metadata": {},
     "output_type": "execute_result"
    }
   ],
   "source": [
    "preds[:1]"
   ]
  },
  {
   "cell_type": "markdown",
   "metadata": {},
   "source": [
    "# Kaggle Submission"
   ]
  },
  {
   "cell_type": "code",
   "execution_count": 23,
   "metadata": {},
   "outputs": [
    {
     "name": "stderr",
     "output_type": "stream",
     "text": [
      "C:\\Users\\norton\\AppData\\Local\\Temp\\ipykernel_17272\\17073533.py:3: SettingWithCopyWarning: \n",
      "A value is trying to be set on a copy of a slice from a DataFrame.\n",
      "Try using .loc[row_indexer,col_indexer] = value instead\n",
      "\n",
      "See the caveats in the documentation: https://pandas.pydata.org/pandas-docs/stable/user_guide/indexing.html#returning-a-view-versus-a-copy\n",
      "  submission['Response'] = np.mean(preds, axis=0)\n"
     ]
    },
    {
     "data": {
      "text/html": [
       "<div>\n",
       "<style scoped>\n",
       "    .dataframe tbody tr th:only-of-type {\n",
       "        vertical-align: middle;\n",
       "    }\n",
       "\n",
       "    .dataframe tbody tr th {\n",
       "        vertical-align: top;\n",
       "    }\n",
       "\n",
       "    .dataframe thead th {\n",
       "        text-align: right;\n",
       "    }\n",
       "</style>\n",
       "<table border=\"1\" class=\"dataframe\">\n",
       "  <thead>\n",
       "    <tr style=\"text-align: right;\">\n",
       "      <th></th>\n",
       "      <th>id</th>\n",
       "      <th>Response</th>\n",
       "    </tr>\n",
       "  </thead>\n",
       "  <tbody>\n",
       "    <tr>\n",
       "      <th>0</th>\n",
       "      <td>11504798</td>\n",
       "      <td>0.006</td>\n",
       "    </tr>\n",
       "    <tr>\n",
       "      <th>1</th>\n",
       "      <td>11504799</td>\n",
       "      <td>0.443</td>\n",
       "    </tr>\n",
       "    <tr>\n",
       "      <th>2</th>\n",
       "      <td>11504800</td>\n",
       "      <td>0.245</td>\n",
       "    </tr>\n",
       "    <tr>\n",
       "      <th>3</th>\n",
       "      <td>11504801</td>\n",
       "      <td>0.000</td>\n",
       "    </tr>\n",
       "    <tr>\n",
       "      <th>4</th>\n",
       "      <td>11504802</td>\n",
       "      <td>0.109</td>\n",
       "    </tr>\n",
       "    <tr>\n",
       "      <th>...</th>\n",
       "      <td>...</td>\n",
       "      <td>...</td>\n",
       "    </tr>\n",
       "    <tr>\n",
       "      <th>7669861</th>\n",
       "      <td>19174659</td>\n",
       "      <td>0.168</td>\n",
       "    </tr>\n",
       "    <tr>\n",
       "      <th>7669862</th>\n",
       "      <td>19174660</td>\n",
       "      <td>0.000</td>\n",
       "    </tr>\n",
       "    <tr>\n",
       "      <th>7669863</th>\n",
       "      <td>19174661</td>\n",
       "      <td>0.001</td>\n",
       "    </tr>\n",
       "    <tr>\n",
       "      <th>7669864</th>\n",
       "      <td>19174662</td>\n",
       "      <td>0.451</td>\n",
       "    </tr>\n",
       "    <tr>\n",
       "      <th>7669865</th>\n",
       "      <td>19174663</td>\n",
       "      <td>0.000</td>\n",
       "    </tr>\n",
       "  </tbody>\n",
       "</table>\n",
       "<p>7669866 rows × 2 columns</p>\n",
       "</div>"
      ],
      "text/plain": [
       "               id  Response\n",
       "0        11504798     0.006\n",
       "1        11504799     0.443\n",
       "2        11504800     0.245\n",
       "3        11504801     0.000\n",
       "4        11504802     0.109\n",
       "...           ...       ...\n",
       "7669861  19174659     0.168\n",
       "7669862  19174660     0.000\n",
       "7669863  19174661     0.001\n",
       "7669864  19174662     0.451\n",
       "7669865  19174663     0.000\n",
       "\n",
       "[7669866 rows x 2 columns]"
      ]
     },
     "execution_count": 23,
     "metadata": {},
     "output_type": "execute_result"
    }
   ],
   "source": [
    "## create submission\n",
    "submission = test[['id']]\n",
    "submission['Response'] = np.mean(preds, axis=0)\n",
    "\n",
    "submission.to_csv('..\\\\data\\\\v7\\\\submission_v7.1.csv', index=False)\n",
    "submission"
   ]
  },
  {
   "cell_type": "code",
   "execution_count": 96,
   "metadata": {},
   "outputs": [],
   "source": [
    "submission.to_parquet('..\\\\data\\\\v7\\\\submission_v7.1.parquet', engine='pyarrow')"
   ]
  }
 ],
 "metadata": {
  "colab": {
   "authorship_tag": "ABX9TyP4XQigLv00cwwAI96NfE3a",
   "provenance": []
  },
  "kernelspec": {
   "display_name": "Python 3 (ipykernel)",
   "language": "python",
   "name": "python3"
  },
  "language_info": {
   "codemirror_mode": {
    "name": "ipython",
    "version": 3
   },
   "file_extension": ".py",
   "mimetype": "text/x-python",
   "name": "python",
   "nbconvert_exporter": "python",
   "pygments_lexer": "ipython3",
   "version": "3.12.4"
  }
 },
 "nbformat": 4,
 "nbformat_minor": 4
}
